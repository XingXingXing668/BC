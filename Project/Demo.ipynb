{
 "cells": [
  {
   "cell_type": "code",
   "execution_count": 1,
   "id": "d79396f6-5ac0-4545-b67c-bb2afb96f10c",
   "metadata": {},
   "outputs": [],
   "source": [
    "from src.pair_trade import PairTradeAnalysis\n",
    "from src.pair_trading_dash_board import PairTradingDashBoard\n",
    "from src.backtesting import BackTesting\n",
    "from src.utils.plot_utils import plot_regression_results\n",
    "from src.stock_regression_dash_board import StockRegressionDashBoard\n",
    "from src.most_explain_dash_board import  MostExplainDashBoard"
   ]
  },
  {
   "cell_type": "markdown",
   "id": "731eb770-543c-49e0-a8dd-7b01499e1c9d",
   "metadata": {},
   "source": [
    "#### **Note:** Due to GitHub's 25MB file size limit, I couldn't upload the full data. Instead, a text file in the \"Data\" folder provides a Dropbox link to access the full data. To run the code, please download the data from Dropbox link, and make sure the downloaded data in the \"Data\" foler."
   ]
  },
  {
   "cell_type": "code",
   "execution_count": null,
   "id": "2b60b59b-7e89-4edd-8282-2c7ca151c4df",
   "metadata": {},
   "outputs": [],
   "source": []
  },
  {
   "cell_type": "markdown",
   "id": "665b9f1a-bcd6-4f12-b60a-8512446f7e2a",
   "metadata": {},
   "source": [
    "# Project 1: Pair Trading"
   ]
  },
  {
   "cell_type": "markdown",
   "id": "ea9f9eb8-3998-4478-ba15-e210b64128ad",
   "metadata": {},
   "source": [
    "## Part 1: How to Select Pairs? Steps Below\n",
    "\n",
    "1. **Correlation Check**: Filter pairs within the same sector using a correlation threshold of 0.9.\n",
    "\n",
    "2. **Cointegration Test**: Select pairs with strong relationships by conducting cointegration tests (significance level = 0.05).\n",
    "\n",
    "3. **Static Hedge Ratio and Spread Estimation**: \n",
    "   - Apply OLS to estimate the hedge ratio statically, and then calculate the spread between the two cointegrated pairs.\n",
    "   - To confirm mean reversion to zero:\n",
    "     - Use ADF p-value < 0.05 to confirm stationarity.\n",
    "     - Use KPSS p-value > 0.05 with regression='c' to confirm stationarity around a constant mean (no trend).\n",
    "\n",
    "4. **Dynamic Hedge Ratio and Spread Estimation**:\n",
    "   - Apply the Kalman filter to estimate the hedge ratio dynamically over time, and then calculate dynamically spread between the two cointegrated pairs.\n",
    "   - To confirm mean reversion to zero:\n",
    "     - Use ADF p-value < 0.05 to confirm stationarity.\n",
    "     - Use KPSS p-value > 0.05 with regression='c' to confirm stationarity around a constant mean (no trend).\n",
    "   - Add a **burn-in** period (65 days, i.e., 3 months trading days): By allowing this \"burn-in\" period, we give the Kalman filter time to converge on stable alpha and beta values, producing a more accurate and comparable spread estimate.\n",
    "\n",
    "5. **Note**: Once we find a pair, we use the ticker with **higher volatility** as the dependent variable **(Y)**, as it tends to have larger fluctuations that may be mean-reverting around the expected value derived from the less volatile asset (X).\n"
   ]
  },
  {
   "cell_type": "code",
   "execution_count": 2,
   "id": "2845555d-5e17-470c-9a1a-b215a85f73c0",
   "metadata": {},
   "outputs": [],
   "source": [
    "# http://127.0.0.1:3033/\n",
    "def Project_1_DashBoard():\n",
    "    # Project1 step 1/2: Pair Trading Strategy\n",
    "    PairTradingDashBoard(PairTradeAnalysis()).run_app() \n"
   ]
  },
  {
   "cell_type": "code",
   "execution_count": 3,
   "id": "ea193137-b03a-4aee-8d58-f0c173ff37ac",
   "metadata": {},
   "outputs": [
    {
     "data": {
      "text/html": [
       "\n",
       "        <iframe\n",
       "            width=\"100%\"\n",
       "            height=\"650\"\n",
       "            src=\"http://127.0.0.1:3033/\"\n",
       "            frameborder=\"0\"\n",
       "            allowfullscreen\n",
       "            \n",
       "        ></iframe>\n",
       "        "
      ],
      "text/plain": [
       "<IPython.lib.display.IFrame at 0x7fa518c10df0>"
      ]
     },
     "metadata": {},
     "output_type": "display_data"
    },
    {
     "name": "stdout",
     "output_type": "stream",
     "text": [
      "Analysis started\n"
     ]
    },
    {
     "name": "stderr",
     "output_type": "stream",
     "text": [
      "Pairs Trading Workflow: 100%|█████████████████| 100/100 [05:19<00:00,  3.20s/it]\n"
     ]
    },
    {
     "name": "stdout",
     "output_type": "stream",
     "text": [
      "Analysis completed successfully\n"
     ]
    }
   ],
   "source": [
    "'''\n",
    "    See saved webpage PDF in Project_1_HighCorrelation.pdf\n",
    "'''\n",
    "\n",
    "# Note: this step may take 2-3 mins to run, drag to the bottom in the below output box to see the progression bar. \n",
    "Project_1_DashBoard() "
   ]
  },
  {
   "cell_type": "code",
   "execution_count": 5,
   "id": "6ccff6de-329d-4cd4-bfd5-4435ab29374f",
   "metadata": {},
   "outputs": [],
   "source": []
  },
  {
   "cell_type": "code",
   "execution_count": null,
   "id": "20c1ca65-6b72-4753-be87-36628fb70b43",
   "metadata": {},
   "outputs": [],
   "source": []
  },
  {
   "cell_type": "markdown",
   "id": "1f6ec3e1-6320-4804-bcb9-1505090d54e9",
   "metadata": {},
   "source": [
    "## Part 2: Backtesting Selected Pairs\n",
    "\n",
    "**Key Idea**  \n",
    "- **Entry Condition (entry threshold)**:  \n",
    "  - Enter a **long** position when the spread deviates **below** a certain number of standard deviations from its mean (e.g., μ− entry_thres * σ).  \n",
    "  - Enter a **short** position when the spread deviates **above** a certain number of standard deviations from its mean (e.g., μ + entry_thres * σ).  \n",
    "\n",
    "- **Exit Condition (exit threshold)**:  \n",
    "  - **Exit** the position when the spread **reverts** to the mean or crosses zero (μ +/- exit_thres * σ).\n",
    "\n",
    "---\n",
    "\n",
    "#### Steps:\n",
    "\n",
    "1. **Identify a Pair from Part I and Visualize:**  \n",
    "   - (1) Plot price  \n",
    "   - (2) Plot OLS spread  \n",
    "   - (3) Plot Kalman spread  \n",
    "\n",
    "2. **Generate Trading Signals/Positions:**  \n",
    "   - For fixed inputs `entry_thres` and `exit_thres`, generate trading signals / trading positions (long/short/no).  \n",
    "   - Consider:\n",
    "     - Trading duration (default: `duration_cap=30` days)  \n",
    "     - Minimum holding days (default: `min_hold_days=3` days)  \n",
    "     - Rolling window for mean and standard deviation calculation (default: 130 days)  \n",
    "\n",
    "3. **Backtesting Returns Using the Signals:**  \n",
    "   - Backtest signals DataFrame to get strategy returns.\n",
    "     - (1) Calculate daily returns for each ticker (prices percent change)  \n",
    "     - (2) Calculate daily strategy returns based on trading signals/positions  \n",
    "     - (3) Consider transaction cost (default: `transaction_cost = 0.0001` per trade)  \n",
    "\n",
    "4. **Calculate Comprehensive Performance Metrics:**  \n",
    "   - Define **eight** performance metrics to assess strategy effectiveness:\n",
    "     - Annual Return (assuming 252 trading days)  \n",
    "     - Annual Volatility  \n",
    "     - Annualized Sharpe Ratio  \n",
    "     - Annualized Sortino Ratio  \n",
    "     - Gain-to-Pain Ratio  \n",
    "     - Maximum Drawdown  \n",
    "     - Drawdown-to-Volatility Ratio  \n",
    "     - Profit-to-Drawdown Ratio (Calmar Ratio)  \n",
    "\n",
    "5. **Bayesian Optimization for Optimized `entry_thres` and `exit_thres`:**  \n",
    "   - **Define and Optimize Objective Function**  \n",
    "     - Develop an objective function tailored to each metric, e.g., maximize Sharpe Ratio, minimize Max Drawdown, etc.  \n",
    "   - **Bayesian Optimization**  \n",
    "     - Find optimal `entry_thres` and `exit_thres` that maximize/minimize the metric.  \n",
    "   - **Apply Optimized Thresholds**  \n",
    "     - Apply these thresholds to evaluate strategy performance using the eight metrics.\n",
    "\n",
    "6. **Sensitivity Check:**  \n",
    "   - **6.1.** Set a fixed entry threshold (e.g., `entry_thres = 2`), vary `exit_thres`, and plot the Sharpe ratio.  \n",
    "   - **6.2.** Set a fixed exit threshold (e.g., `exit_thres = 1`), vary `entry_thres`, and plot the Sharpe ratio.\n"
   ]
  },
  {
   "cell_type": "code",
   "execution_count": 2,
   "id": "d8f30116-31a1-441b-bcd0-214b09c5c4a5",
   "metadata": {},
   "outputs": [],
   "source": [
    "#http://127.0.0.1:3034\n",
    "def Project_1_BackTest(ticker1='WVE', ticker2='XERS'):\n",
    "    bt = BackTesting()\n",
    "    bt.backtesting_dashboard(ticker1, ticker2)  # This would start the Dash server and display the webpage with plots and tables.\n"
   ]
  },
  {
   "cell_type": "code",
   "execution_count": 3,
   "id": "243c51c3-19dc-4486-b3b4-39c0c4f6a6b8",
   "metadata": {},
   "outputs": [
    {
     "name": "stdout",
     "output_type": "stream",
     "text": [
      "Optimizing for sharpe_ratio...\n",
      "Optimizing for sortino_ratio...\n",
      "Optimizing for max_drawdown...\n"
     ]
    },
    {
     "data": {
      "text/html": [
       "\n",
       "        <iframe\n",
       "            width=\"100%\"\n",
       "            height=\"650\"\n",
       "            src=\"http://127.0.0.1:3034/\"\n",
       "            frameborder=\"0\"\n",
       "            allowfullscreen\n",
       "            \n",
       "        ></iframe>\n",
       "        "
      ],
      "text/plain": [
       "<IPython.lib.display.IFrame at 0x7fde78c08c10>"
      ]
     },
     "metadata": {},
     "output_type": "display_data"
    }
   ],
   "source": [
    "'''\n",
    "    See saved webpage PDF in Project_1_BackTest.pdf\n",
    "'''\n",
    "\n",
    "Project_1_BackTest(ticker1='WVE', ticker2='XERS')\n"
   ]
  },
  {
   "cell_type": "code",
   "execution_count": null,
   "id": "1d0809c5-0c80-4db6-9336-4d30004137b2",
   "metadata": {},
   "outputs": [],
   "source": []
  },
  {
   "cell_type": "code",
   "execution_count": null,
   "id": "dad27ff8-3f29-4fa0-8834-7f4808394d90",
   "metadata": {},
   "outputs": [],
   "source": []
  },
  {
   "cell_type": "markdown",
   "id": "cd039fec-776b-4add-afdc-fabc23696a10",
   "metadata": {},
   "source": [
    "\n",
    "# Project 2: Multi-Variate Index\n",
    "\n"
   ]
  },
  {
   "cell_type": "markdown",
   "id": "c8a18e08-47e5-40a9-ba4a-459f79571154",
   "metadata": {},
   "source": [
    "## Main Part: Index Performance Analysis (Regression-Based Insights)\n",
    "\n",
    "1. **Index Selection**  \n",
    "   - A dropdown menu for the user to choose one index—S&P 500, Russell 2000, or Nasdaq 100—which will serve as the dependent variable **Y**.\n",
    "\n",
    "2. **Stock Selection Based on Index**  \n",
    "   - Allow the user to select up to ten stock tickers corresponding to the chosen index:\n",
    "     - Dynamically update the available stock options based on the selected index.\n",
    "     - Display a reminder of the remaining stock selections (maximum of 10).\n",
    "     - If a selected stock has fewer than 252 trading days of data, prompt the user to select alternative stocks.\n",
    "\n",
    "3. **Run Regression**  \n",
    "   - Ensure both stock and index data are on a daily returns scale.\n",
    "   - Display the regression tables, including coefficients (10 beta values + 1 constant).\n",
    "   - Plot the predicted index returns against the actual index returns.\n",
    "\n"
   ]
  },
  {
   "cell_type": "code",
   "execution_count": 6,
   "id": "51a668ad-989d-40d4-afb4-606a540139ba",
   "metadata": {},
   "outputs": [],
   "source": [
    "#http://127.0.0.1:3035\n",
    "def Project2():\n",
    "    # Project2: Regression Analysis\n",
    "    StockRegressionDashBoard().run_app()\n",
    "    # MostExplainDashBoard().run_app()\n"
   ]
  },
  {
   "cell_type": "code",
   "execution_count": 7,
   "id": "c556c004-0bd6-486b-9974-b185a033bc0b",
   "metadata": {},
   "outputs": [
    {
     "data": {
      "text/plain": [
       "'\\n    See saved webpage PDF in Project_2_Regression.pdf\\n'"
      ]
     },
     "execution_count": 7,
     "metadata": {},
     "output_type": "execute_result"
    }
   ],
   "source": [
    "'''\n",
    "    See saved webpage PDF in Project_2_Regression.pdf\n",
    "'''\n",
    "Project2()"
   ]
  },
  {
   "cell_type": "code",
   "execution_count": null,
   "id": "9604d930-465d-4412-899b-11b090d47378",
   "metadata": {},
   "outputs": [],
   "source": []
  },
  {
   "cell_type": "code",
   "execution_count": null,
   "id": "2714ef1a-6db7-45d2-a3db-847c954dd216",
   "metadata": {},
   "outputs": [],
   "source": []
  },
  {
   "cell_type": "markdown",
   "id": "54a856c8-b405-42ee-83cc-a36826132ab4",
   "metadata": {},
   "source": [
    "## Optional Part: Find Top 10 Stocks That Best Explain the Index\n",
    "\n",
    "1. **Index Selection**  \n",
    "   - Provide a dropdown menu for the user to select one index—S&P 500, Russell 2000, or Nasdaq 100—which will serve as the dependent variable **Y**.\n",
    "\n",
    "2. **Time Selection**  \n",
    "   - Allow the user to specify the start and end dates for the analysis.\n",
    "\n",
    "3. **Method Selection**  \n",
    "   - Include **three methods** for identifying the top 10 stocks that best explain the selected index. Each method follows this initial filter:\n",
    "     - **Shared Filter**: Calculate the rolling correlation between the index and each stock, then filter to the top 50 stocks with the highest correlations.\n",
    "\n",
    "   - **Method 1: Stepwise Regression (Static Beta)**  \n",
    "     - From the top 50 stocks after pre-filtering, iteratively add or remove stocks as predictors based on their statistical significance to optimize the model.\n",
    "\n",
    "   - **Method 2: Lasso Regression (Static Beta)**  \n",
    "     - From the top 50 stocks after pre-filtering, Lasso uses regularization to shrink less important coefficients to zero, effectively selecting a subset of stocks that best predict index performance.\n",
    "\n",
    "   - **Method 3: Kalman Filter Regression (Dynamic Beta)**  \n",
    "     - From the top 50 stocks after pre-filtering, Kalman employs a dynamic model to estimate time-varying relationships between the index and stocks, adapting coefficients as new data becomes available.\n",
    "\n",
    "4. **Results Dashboard**  \n",
    "   - Provide a dashboard for users to select their options and view results.\n",
    "     - If **Method 1** or **Method 2** is selected (yielding static betas), display a bar plot of each top 10 stock’s coefficient.\n",
    "     - If **Method 3** is chosen (yielding dynamic betas), show a time-varying scatter plot for each beta.\n",
    "\n"
   ]
  },
  {
   "cell_type": "code",
   "execution_count": 8,
   "id": "5028e750-a007-48ff-8d25-f33ba7843eee",
   "metadata": {},
   "outputs": [],
   "source": [
    "#http://127.0.0.1:3036\n",
    "def Project2():\n",
    "    # StockRegressionDashBoard().run_app()\n",
    "    MostExplainDashBoard().run_app()"
   ]
  },
  {
   "cell_type": "code",
   "execution_count": 9,
   "id": "2143b4dc-96f6-4196-b4f5-2940a7787c98",
   "metadata": {},
   "outputs": [
    {
     "data": {
      "text/plain": [
       "'\\n    See saved webpage PDF in Project_2_MostExplain.pdf\\n'"
      ]
     },
     "execution_count": 9,
     "metadata": {},
     "output_type": "execute_result"
    }
   ],
   "source": [
    "'''\n",
    "    See saved webpage PDF in Project_2_MostExplain.pdf\n",
    "'''\n",
    "Project2()"
   ]
  },
  {
   "cell_type": "code",
   "execution_count": null,
   "id": "fbce3d80-f507-4557-89e9-395a82c5c5d2",
   "metadata": {},
   "outputs": [],
   "source": []
  },
  {
   "cell_type": "code",
   "execution_count": null,
   "id": "61c948fb-0d51-447e-8d23-b4492d63d40f",
   "metadata": {},
   "outputs": [],
   "source": []
  },
  {
   "cell_type": "code",
   "execution_count": null,
   "id": "b24d43f8-b97f-4d2c-a7da-37bf0b0a775f",
   "metadata": {},
   "outputs": [],
   "source": []
  }
 ],
 "metadata": {
  "kernelspec": {
   "display_name": "Python 3 (ipykernel)",
   "language": "python",
   "name": "python3"
  },
  "language_info": {
   "codemirror_mode": {
    "name": "ipython",
    "version": 3
   },
   "file_extension": ".py",
   "mimetype": "text/x-python",
   "name": "python",
   "nbconvert_exporter": "python",
   "pygments_lexer": "ipython3",
   "version": "3.9.18"
  }
 },
 "nbformat": 4,
 "nbformat_minor": 5
}
